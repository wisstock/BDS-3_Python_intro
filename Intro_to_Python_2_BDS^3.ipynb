{
  "nbformat": 4,
  "nbformat_minor": 0,
  "metadata": {
    "colab": {
      "provenance": []
    },
    "kernelspec": {
      "name": "python3",
      "display_name": "Python 3"
    },
    "language_info": {
      "name": "python"
    }
  },
  "cells": [
    {
      "cell_type": "markdown",
      "source": [
        "Посилання на Data Analysis and Visualization in Python carpentry: https://datacarpentry.org/python-ecology-lesson/"
      ],
      "metadata": {
        "id": "5GcYp68xx41X"
      }
    },
    {
      "cell_type": "markdown",
      "source": [
        "# Теми для опрацювання:\n",
        "\n"
      ],
      "metadata": {
        "id": "DWrSB9YhyYmx"
      }
    },
    {
      "cell_type": "markdown",
      "source": [
        "### 1) [Starting With Data ](https://datacarpentry.org/python-ecology-lesson/02-starting-with-data.html)\n",
        "* Navigate the workshop directory and download a dataset.\n",
        "* Explain what a library is and what libraries are used for.\n",
        "* Describe what the Python Data Analysis Library (Pandas) is.\n",
        "* Load the Python Data Analysis Library (Pandas).\n",
        "* Read tabular data into Python using Pandas.\n",
        "* Describe what a DataFrame is in Python.\n",
        "#### Optional:\n",
        "* Access and summarize data stored in a DataFrame.\n",
        "* Define indexing as it relates to data structures.\n",
        "* Perform basic mathematical operations and summary statistics on data in a Pandas DataFrame.\n",
        "* Create simple plots."
      ],
      "metadata": {
        "id": "wM-AUEisyYjh"
      }
    },
    {
      "cell_type": "markdown",
      "source": [
        "### 2) Indexing, Slicing and Subsetting DataFrames in Python\n",
        "\n",
        "* Describe what 0-based indexing is.\n",
        "* Manipulate and extract data using column headings and index locations.\n",
        "* Employ slicing to select sets of data from a DataFrame.\n",
        "* Employ label and integer-based indexing to select ranges of data in a dataframe.\n",
        "* Reassign values within subsets of a DataFrame.\n",
        "* Create a copy of a DataFrame.\n",
        "* Query / select a subset of data using a set of criteria using the following operators: ==, !=, >, <, >=, <=.\n",
        "* Locate subsets of data using masks.\n",
        "* Describe BOOLEAN objects in Python and manipulate data using BOOLEANs."
      ],
      "metadata": {
        "id": "9ESGvGutyYfH"
      }
    },
    {
      "cell_type": "markdown",
      "source": [
        "### 3) Data Types and Formats\n",
        "* Describe how information is stored in a pandas DataFrame.\n",
        "* Define the two main types of data in pandas: text and numerics.\n",
        "* Examine the structure of a DataFrame.\n",
        "* Modify the format of values in a DataFrame.\n",
        "* Describe how data types impact operations.\n",
        "* Define, manipulate, and interconvert integers and floats in Python/pandas.\n",
        "* Analyze datasets having missing/null values (NaN values).\n",
        "* Write manipulated data to a file."
      ],
      "metadata": {
        "id": "HnfWvt0syYXr"
      }
    },
    {
      "cell_type": "markdown",
      "source": [
        "### 4) Combining DataFrames with Pandas - Optional"
      ],
      "metadata": {
        "id": "_11GH1_O4dHa"
      }
    },
    {
      "cell_type": "markdown",
      "source": [
        "### 5) Data Workflows and Automation - Optional"
      ],
      "metadata": {
        "id": "vvR92VrC4vNv"
      }
    },
    {
      "cell_type": "markdown",
      "source": [
        "### 6) Data visualization and plotting\n",
        "Choice between http://swcarpentry.github.io/python-novice-gapminder/09-plotting.html and https://datacarpentry.org/python-ecology-lesson/07-visualization-ggplot-python.html"
      ],
      "metadata": {
        "id": "ib4BjpNC4vGq"
      }
    },
    {
      "cell_type": "markdown",
      "source": [
        "### 7) Data Ingest and Visualization - Matplotlib and Pandas\n",
        "* Import the pyplot toolbox to create figures in Python.\n",
        "* Use matplotlib to make adjustments to Pandas or plotnine objects."
      ],
      "metadata": {
        "id": "n1L5xSkg4u-c"
      }
    }
  ]
}