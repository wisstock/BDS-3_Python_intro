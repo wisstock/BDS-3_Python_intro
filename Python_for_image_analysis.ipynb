{
  "nbformat": 4,
  "nbformat_minor": 0,
  "metadata": {
    "colab": {
      "provenance": []
    },
    "kernelspec": {
      "name": "python3",
      "display_name": "Python 3"
    },
    "language_info": {
      "name": "python"
    }
  },
  "cells": [
    {
      "cell_type": "markdown",
      "source": [
        "# Теми для опрацювання:\n",
        "\n",
        "https://datacarpentry.org/image-processing/01-introduction.html"
      ],
      "metadata": {
        "id": "Swre5YntQ30m"
      }
    },
    {
      "cell_type": "markdown",
      "source": [
        "## 0) Setup"
      ],
      "metadata": {
        "id": "2eoxg5cXQ6rq"
      }
    },
    {
      "cell_type": "markdown",
      "source": [
        "To download the data, please visit the [dataset page for this workshop](https://figshare.com/articles/dataset/Data_Carpentry_Image_Processing_Data_beta_/19260677) and click the “Download all” button. Unzip the downloaded file, and save the contents as a folder called data."
      ],
      "metadata": {
        "id": "kQlCSuueQ6vv"
      }
    },
    {
      "cell_type": "markdown",
      "source": [
        "# 1) Introduction"
      ],
      "metadata": {
        "id": "v5mhyTafQ60R"
      }
    },
    {
      "cell_type": "markdown",
      "source": [
        "* Recognise scientific questions that could be solved with image processing / computer vision.\n",
        "* Recognise morphometric problems (those dealing with the number, size, or shape of the objects in an image)."
      ],
      "metadata": {
        "id": "i3CRnBetQ64d"
      }
    },
    {
      "cell_type": "markdown",
      "source": [
        "## 2) Image Basics"
      ],
      "metadata": {
        "id": "y5uH2CEXQ687"
      }
    },
    {
      "cell_type": "markdown",
      "source": [
        "* How a digital image is composed of pixels?\n",
        "* Colors in images"
      ],
      "metadata": {
        "id": "5N8bUnPTQ7BS"
      }
    },
    {
      "cell_type": "markdown",
      "source": [
        "## 3) Working with skimage"
      ],
      "metadata": {
        "id": "nTGCTOUvQ7Fz"
      }
    },
    {
      "cell_type": "markdown",
      "source": [
        "* Read and save images with imageio.\n",
        "* Display images with matplotlib.\n",
        "* Perform simple image thresholding with NumPy array operations.\n",
        "* Extract sub-images using array slicing."
      ],
      "metadata": {
        "id": "qBC8bhX2Q7JX"
      }
    },
    {
      "cell_type": "markdown",
      "source": [
        "## 4) Other image analysis techniques, hands on practice"
      ],
      "metadata": {
        "id": "mAOqbChxQ7Nv"
      }
    },
    {
      "cell_type": "markdown",
      "source": [
        "* creating masks\n",
        "* exploring image with histograms\n",
        "* image bluring\n",
        "* etc..."
      ],
      "metadata": {
        "id": "XyFMGG0SQ7Ra"
      }
    }
  ]
}